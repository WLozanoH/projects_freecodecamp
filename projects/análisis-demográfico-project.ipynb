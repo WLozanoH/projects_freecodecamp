{
 "cells": [
  {
   "cell_type": "markdown",
   "metadata": {},
   "source": [
    "# Análisis Demográfico de Ingresos y Educación en Adultos: Exploración de Factores Socioeconómicos en Diversos Países"
   ]
  },
  {
   "cell_type": "code",
   "execution_count": 1,
   "metadata": {},
   "outputs": [],
   "source": [
    "#Importamos la librería pandas\n",
    "import pandas as pd "
   ]
  },
  {
   "cell_type": "markdown",
   "metadata": {},
   "source": [
    "You can download dataset here: 👇👇\n",
    "\n",
    "https://github.com/WLozanoH/projects_freecodecamp/blob/main/projects/adult.data.csv"
   ]
  },
  {
   "cell_type": "code",
   "execution_count": 2,
   "metadata": {},
   "outputs": [
    {
     "data": {
      "text/html": [
       "<div>\n",
       "<style scoped>\n",
       "    .dataframe tbody tr th:only-of-type {\n",
       "        vertical-align: middle;\n",
       "    }\n",
       "\n",
       "    .dataframe tbody tr th {\n",
       "        vertical-align: top;\n",
       "    }\n",
       "\n",
       "    .dataframe thead th {\n",
       "        text-align: right;\n",
       "    }\n",
       "</style>\n",
       "<table border=\"1\" class=\"dataframe\">\n",
       "  <thead>\n",
       "    <tr style=\"text-align: right;\">\n",
       "      <th></th>\n",
       "      <th>age</th>\n",
       "      <th>workclass</th>\n",
       "      <th>fnlwgt</th>\n",
       "      <th>education</th>\n",
       "      <th>education-num</th>\n",
       "      <th>marital-status</th>\n",
       "      <th>occupation</th>\n",
       "      <th>relationship</th>\n",
       "      <th>race</th>\n",
       "      <th>sex</th>\n",
       "      <th>capital-gain</th>\n",
       "      <th>capital-loss</th>\n",
       "      <th>hours-per-week</th>\n",
       "      <th>native-country</th>\n",
       "      <th>salary</th>\n",
       "    </tr>\n",
       "  </thead>\n",
       "  <tbody>\n",
       "    <tr>\n",
       "      <th>0</th>\n",
       "      <td>39</td>\n",
       "      <td>State-gov</td>\n",
       "      <td>77516</td>\n",
       "      <td>Bachelors</td>\n",
       "      <td>13</td>\n",
       "      <td>Never-married</td>\n",
       "      <td>Adm-clerical</td>\n",
       "      <td>Not-in-family</td>\n",
       "      <td>White</td>\n",
       "      <td>Male</td>\n",
       "      <td>2174</td>\n",
       "      <td>0</td>\n",
       "      <td>40</td>\n",
       "      <td>United-States</td>\n",
       "      <td>&lt;=50K</td>\n",
       "    </tr>\n",
       "    <tr>\n",
       "      <th>1</th>\n",
       "      <td>50</td>\n",
       "      <td>Self-emp-not-inc</td>\n",
       "      <td>83311</td>\n",
       "      <td>Bachelors</td>\n",
       "      <td>13</td>\n",
       "      <td>Married-civ-spouse</td>\n",
       "      <td>Exec-managerial</td>\n",
       "      <td>Husband</td>\n",
       "      <td>White</td>\n",
       "      <td>Male</td>\n",
       "      <td>0</td>\n",
       "      <td>0</td>\n",
       "      <td>13</td>\n",
       "      <td>United-States</td>\n",
       "      <td>&lt;=50K</td>\n",
       "    </tr>\n",
       "    <tr>\n",
       "      <th>2</th>\n",
       "      <td>38</td>\n",
       "      <td>Private</td>\n",
       "      <td>215646</td>\n",
       "      <td>HS-grad</td>\n",
       "      <td>9</td>\n",
       "      <td>Divorced</td>\n",
       "      <td>Handlers-cleaners</td>\n",
       "      <td>Not-in-family</td>\n",
       "      <td>White</td>\n",
       "      <td>Male</td>\n",
       "      <td>0</td>\n",
       "      <td>0</td>\n",
       "      <td>40</td>\n",
       "      <td>United-States</td>\n",
       "      <td>&lt;=50K</td>\n",
       "    </tr>\n",
       "    <tr>\n",
       "      <th>3</th>\n",
       "      <td>53</td>\n",
       "      <td>Private</td>\n",
       "      <td>234721</td>\n",
       "      <td>11th</td>\n",
       "      <td>7</td>\n",
       "      <td>Married-civ-spouse</td>\n",
       "      <td>Handlers-cleaners</td>\n",
       "      <td>Husband</td>\n",
       "      <td>Black</td>\n",
       "      <td>Male</td>\n",
       "      <td>0</td>\n",
       "      <td>0</td>\n",
       "      <td>40</td>\n",
       "      <td>United-States</td>\n",
       "      <td>&lt;=50K</td>\n",
       "    </tr>\n",
       "    <tr>\n",
       "      <th>4</th>\n",
       "      <td>28</td>\n",
       "      <td>Private</td>\n",
       "      <td>338409</td>\n",
       "      <td>Bachelors</td>\n",
       "      <td>13</td>\n",
       "      <td>Married-civ-spouse</td>\n",
       "      <td>Prof-specialty</td>\n",
       "      <td>Wife</td>\n",
       "      <td>Black</td>\n",
       "      <td>Female</td>\n",
       "      <td>0</td>\n",
       "      <td>0</td>\n",
       "      <td>40</td>\n",
       "      <td>Cuba</td>\n",
       "      <td>&lt;=50K</td>\n",
       "    </tr>\n",
       "  </tbody>\n",
       "</table>\n",
       "</div>"
      ],
      "text/plain": [
       "   age         workclass  fnlwgt  education  education-num  \\\n",
       "0   39         State-gov   77516  Bachelors             13   \n",
       "1   50  Self-emp-not-inc   83311  Bachelors             13   \n",
       "2   38           Private  215646    HS-grad              9   \n",
       "3   53           Private  234721       11th              7   \n",
       "4   28           Private  338409  Bachelors             13   \n",
       "\n",
       "       marital-status         occupation   relationship   race     sex  \\\n",
       "0       Never-married       Adm-clerical  Not-in-family  White    Male   \n",
       "1  Married-civ-spouse    Exec-managerial        Husband  White    Male   \n",
       "2            Divorced  Handlers-cleaners  Not-in-family  White    Male   \n",
       "3  Married-civ-spouse  Handlers-cleaners        Husband  Black    Male   \n",
       "4  Married-civ-spouse     Prof-specialty           Wife  Black  Female   \n",
       "\n",
       "   capital-gain  capital-loss  hours-per-week native-country salary  \n",
       "0          2174             0              40  United-States  <=50K  \n",
       "1             0             0              13  United-States  <=50K  \n",
       "2             0             0              40  United-States  <=50K  \n",
       "3             0             0              40  United-States  <=50K  \n",
       "4             0             0              40           Cuba  <=50K  "
      ]
     },
     "execution_count": 2,
     "metadata": {},
     "output_type": "execute_result"
    }
   ],
   "source": [
    "#cargamos el archivo 'csv'\n",
    "\n",
    "df = pd.read_csv('adult.data.csv')\n",
    "df.head()"
   ]
  },
  {
   "cell_type": "code",
   "execution_count": 3,
   "metadata": {},
   "outputs": [
    {
     "name": "stdout",
     "output_type": "stream",
     "text": [
      "<class 'pandas.core.frame.DataFrame'>\n",
      "RangeIndex: 32561 entries, 0 to 32560\n",
      "Data columns (total 15 columns):\n",
      " #   Column          Non-Null Count  Dtype \n",
      "---  ------          --------------  ----- \n",
      " 0   age             32561 non-null  int64 \n",
      " 1   workclass       32561 non-null  object\n",
      " 2   fnlwgt          32561 non-null  int64 \n",
      " 3   education       32561 non-null  object\n",
      " 4   education-num   32561 non-null  int64 \n",
      " 5   marital-status  32561 non-null  object\n",
      " 6   occupation      32561 non-null  object\n",
      " 7   relationship    32561 non-null  object\n",
      " 8   race            32561 non-null  object\n",
      " 9   sex             32561 non-null  object\n",
      " 10  capital-gain    32561 non-null  int64 \n",
      " 11  capital-loss    32561 non-null  int64 \n",
      " 12  hours-per-week  32561 non-null  int64 \n",
      " 13  native-country  32561 non-null  object\n",
      " 14  salary          32561 non-null  object\n",
      "dtypes: int64(6), object(9)\n",
      "memory usage: 3.7+ MB\n"
     ]
    }
   ],
   "source": [
    "df.info() #no hay valores nulos"
   ]
  },
  {
   "cell_type": "markdown",
   "metadata": {},
   "source": [
    "# Answer to question 📉📚"
   ]
  },
  {
   "cell_type": "markdown",
   "metadata": {},
   "source": [
    "📌 * Pregunta 1: ¿Cuántas personas de cada raza están representadas en este set de datos?"
   ]
  },
  {
   "cell_type": "code",
   "execution_count": 4,
   "metadata": {},
   "outputs": [
    {
     "name": "stdout",
     "output_type": "stream",
     "text": [
      "race: 'White' - count: 27816\n",
      "race: 'Black' - count: 3124\n",
      "race: 'Asian-Pac-Islander' - count: 1039\n",
      "race: 'Amer-Indian-Eskimo' - count: 311\n",
      "race: 'Other' - count: 271\n"
     ]
    }
   ],
   "source": [
    "race_count = df['race'].value_counts()\n",
    "for  race in race_count.index:\n",
    "    print(f\"race: '{race}' - count: {race_count[race]}\")\n",
    "\n"
   ]
  },
  {
   "cell_type": "markdown",
   "metadata": {},
   "source": [
    "🎯 Respuesta 1: \n",
    "\n",
    "Las razas de las personas en este set de datos están distribuídas de la siguiente manera:\n",
    "\n",
    "        race: 'White' - count: 27816\n",
    "        race: 'Black' - count: 3124\n",
    "        race: 'Asian-Pac-Islander' - count: 1039\n",
    "        race: 'Amer-Indian-Eskimo' - count: 311\n",
    "        race: 'Other' - count: 271\n",
    "\n"
   ]
  },
  {
   "cell_type": "markdown",
   "metadata": {},
   "source": [
    "📌 Pregunta 2: ¿Cuál es la edad promedio de los hombres?"
   ]
  },
  {
   "cell_type": "code",
   "execution_count": 5,
   "metadata": {},
   "outputs": [
    {
     "name": "stdout",
     "output_type": "stream",
     "text": [
      "la edad promedio de los hombres es de: 39 años.\n"
     ]
    }
   ],
   "source": [
    "promedio_edad_hombres = df.loc[df['sex']=='Male']['age'].mean()\n",
    "promedio_edad_hombres = round(promedio_edad_hombres)\n",
    "print(f'la edad promedio de los hombres es de: {promedio_edad_hombres} años.')"
   ]
  },
  {
   "cell_type": "markdown",
   "metadata": {},
   "source": [
    "🎯 Respuesta 2: \n",
    "\n",
    "        la edad promedio de los hombres en este set de datos es de: 39 años.\n",
    "\n",
    "        "
   ]
  },
  {
   "cell_type": "markdown",
   "metadata": {},
   "source": [
    "* Pregunta 3: ¿Cuál es el porcentaje de personas que tienen un grado de licenciatura (Bachelor's degree)?\n"
   ]
  },
  {
   "cell_type": "code",
   "execution_count": 6,
   "metadata": {},
   "outputs": [
    {
     "name": "stdout",
     "output_type": "stream",
     "text": [
      "En este set de datos:\n",
      "\n",
      "  El porcentaje de personas  con Educación = 'Bachelor' es: 16.45%.\n"
     ]
    }
   ],
   "source": [
    "# paso 1: filtrar personas con 'education' == 'Bachelors'\n",
    "degree_bachelor = df[df['education']== 'Bachelors']\n",
    "\n",
    "# paso 2: hallar el total de personas con 'education' = 'Bachelors'\n",
    "total_degree_bachelor = len(degree_bachelor)\n",
    "\n",
    "# paso 3: hallar el total de personas con educacion.\n",
    "count_df = len(df)\n",
    "count_df\n",
    "\n",
    "# paso4: hallar el porcentaje de personas que tienen licenciatura 'Bachelors' en este set de datos\n",
    "\n",
    "porcentaje_bachelor = (total_degree_bachelor/count_df)*100\n",
    "porcentaje_bachelor = round(porcentaje_bachelor,2)\n",
    "\n",
    "print(f\"En este set de datos:\\n\\n  El porcentaje de personas  con Educación = 'Bachelor' es: {porcentaje_bachelor}%.\")\n"
   ]
  },
  {
   "cell_type": "markdown",
   "metadata": {},
   "source": [
    "🎯  Respuesta 3: \n",
    "\n",
    "        El porcentaje de personas  con Educación = 'Bachelor' es: 16.45%."
   ]
  },
  {
   "cell_type": "markdown",
   "metadata": {},
   "source": [
    "* Pregunta 4: ¿Qué porcentaje de personas con una educación avanzada (Bachelors, Masters o Doctorate) ganan más de 50k?"
   ]
  },
  {
   "cell_type": "code",
   "execution_count": 7,
   "metadata": {},
   "outputs": [
    {
     "name": "stdout",
     "output_type": "stream",
     "text": [
      "El porcentaje de personas con una educación avanzada (Bachelors, Masters o Doctorate) ganan más de 50k es:\n",
      "\n",
      "porcentaje: 46.54%.\n"
     ]
    }
   ],
   "source": [
    "#paso 1: filtrar datos por educacion avanzada, educacion = (['Bachelors','Masters', 'Doctorate'])\n",
    "education_advance = df[df['education'].isin(['Bachelors','Masters', 'Doctorate'])]\n",
    "\n",
    "#paso 2: hallar el total de personas con  educacion avanzada\n",
    "total_count_advance = len(education_advance)\n",
    "\n",
    "#paso 3: filtrar las personas que ganan mas de 50K, con educacion avanzada\n",
    "high_salary = education_advance[education_advance['salary']== '>50K']\n",
    "\n",
    "#paso 4:  contar el total de personas que ganan mas de 50K, con educacion avanzada\n",
    "count_high_salary = len(high_salary)\n",
    "\n",
    "#paso 5: porcentaje  de personas que ganan mas de 50K, con educacion avanzada\n",
    "porcentaje = (count_high_salary/total_count_advance) *100\n",
    "porcentaje = round(porcentaje,2)\n",
    "\n",
    "print(f\"El porcentaje de personas con una educación avanzada (Bachelors, Masters o Doctorate) ganan más de 50k es:\\n\\nporcentaje: {porcentaje}%.\")"
   ]
  },
  {
   "cell_type": "markdown",
   "metadata": {},
   "source": [
    "🎯 Respuesta 4:\n",
    "\n",
    "El porcentaje de personas con una educación avanzada (Bachelors, Masters o Doctorate) ganan más de 50k es:\n",
    "\n",
    "        porcentaje: 46.54%."
   ]
  },
  {
   "cell_type": "markdown",
   "metadata": {},
   "source": [
    "📌 Pregunta 5: ¿Qué porcentaje de personas sin una educación avanzada generan más de 50k?"
   ]
  },
  {
   "cell_type": "code",
   "execution_count": 8,
   "metadata": {},
   "outputs": [
    {
     "name": "stdout",
     "output_type": "stream",
     "text": [
      "El porcentaje de personas sin una educación avanzada (Bachelors, Masters o Doctorate) ganan más de 50k es:\n",
      "\n",
      "porcentaje: 17.37%.\n"
     ]
    }
   ],
   "source": [
    "#paso 1: filtrar datos sin educacion avanzada, educacion = (['Bachelors','Masters', 'Doctorate'])\n",
    "sin_education_advance = df[~df['education'].isin(['Bachelors','Masters', 'Doctorate'])]\n",
    "\n",
    "#paso 2: hallar el total de personas sin  educacion avanzada\n",
    "total_count_sin_advance = len(sin_education_advance)\n",
    "\n",
    "#paso 3: filtrar las personas que ganan mas de 50K, sin educacion avanzada\n",
    "high_salary = sin_education_advance[sin_education_advance['salary']== '>50K']\n",
    "\n",
    "#paso 4:  contar el total de personas que ganan mas de 50K, sin educacion avanzada\n",
    "count_high_salary = len(high_salary)\n",
    "\n",
    "#paso 5: porcentaje  de personas que ganan mas de 50K, sin educacion avanzada\n",
    "porcentaje = (count_high_salary/total_count_sin_advance) *100\n",
    "porcentaje = round(porcentaje,2)\n",
    "\n",
    "print(f\"El porcentaje de personas sin una educación avanzada (Bachelors, Masters o Doctorate) ganan más de 50k es:\\n\\nporcentaje: {porcentaje}%.\")"
   ]
  },
  {
   "cell_type": "markdown",
   "metadata": {},
   "source": [
    "🎯 Respuesta 5: \n",
    "\n",
    "    El porcentaje de personas sin una educación avanzada (Bachelors, Masters o Doctorate) ganan más de 50k es:\n",
    "\n",
    "        porcentaje: 17.37%."
   ]
  },
  {
   "cell_type": "markdown",
   "metadata": {},
   "source": [
    "📌 Pregunta 6: ¿Cuál es el mínimo número de horas que una persona trabaja por semana?"
   ]
  },
  {
   "cell_type": "code",
   "execution_count": 9,
   "metadata": {},
   "outputs": [
    {
     "name": "stdout",
     "output_type": "stream",
     "text": [
      "El mínimo de horas trabajadas por semana es: 1 hora.\n"
     ]
    }
   ],
   "source": [
    "min_hours = df['hours-per-week'].min()\n",
    "print(f\"El mínimo de horas trabajadas por semana es: {min_hours} hora.\")\n"
   ]
  },
  {
   "cell_type": "markdown",
   "metadata": {},
   "source": [
    "🎯  Respuesta 6: \n",
    "\n",
    "        El minimo de horas trabajadas por semana es: 1 hora."
   ]
  },
  {
   "cell_type": "markdown",
   "metadata": {},
   "source": [
    "📌 Pregunta 7: ¿Qué porcentaje de personas que trabajan el mínimo de horas por semana tiene un salario de más de 50k?"
   ]
  },
  {
   "cell_type": "code",
   "execution_count": 10,
   "metadata": {},
   "outputs": [
    {
     "name": "stdout",
     "output_type": "stream",
     "text": [
      "El porcentaje de personas que ganan mas de 50K y trabajan un minimo de horas a la semana es:\n",
      "\n",
      "  Porcentaje: 10.0%.\n"
     ]
    }
   ],
   "source": [
    "#paso 1: hallar el minimo de horas trabajadas por semana\n",
    "min_hours = df['hours-per-week'].min()\n",
    "\n",
    "#paso 2: filtrar las personas que trabajan el minimo de horas\n",
    "min_hours_workers = df[df['hours-per-week']== min_hours]\n",
    "\n",
    "#paso 3: calcular el total de personas que trabajan el minimo de horas\n",
    "total_min_hours_workers = len(min_hours_workers)\n",
    "\n",
    "#paso 4: hallar el total de personas que ganan  mas de 50K y que trabajan el minimo de horas\n",
    "min_hours_high_salary = len(min_hours_workers[min_hours_workers['salary'] == '>50K'])\n",
    "\n",
    "#paso 5: hallar el porcentaje  de personas que ganan mas de 50K y que trabajan el minimo de horas\n",
    "porcentaje = (min_hours_high_salary/total_min_hours_workers)*100\n",
    "porcentaje = round(porcentaje,2)\n",
    "\n",
    "print(f\"El porcentaje de personas que ganan mas de 50K y trabajan un minimo de horas a la semana es:\\n\\n  Porcentaje: {porcentaje}%.\")\n",
    "\n"
   ]
  },
  {
   "cell_type": "markdown",
   "metadata": {},
   "source": [
    "🎯 Respuesta 7: \n",
    "\n",
    "El porcentaje de personas que ganan mas de 50K y trabajan un minimo de horas a la semana es:\n",
    "\n",
    "    Porcentaje: 10.0%.     "
   ]
  },
  {
   "cell_type": "markdown",
   "metadata": {},
   "source": [
    "* Pregunta 8: ¿Qué país tiene el porcentaje más alto de personas que ganan >50k y cuál es ese porcentaje?"
   ]
  },
  {
   "cell_type": "code",
   "execution_count": 11,
   "metadata": {},
   "outputs": [
    {
     "name": "stdout",
     "output_type": "stream",
     "text": [
      "País con el porcentaje de personas con salario mayor a 50K\n",
      "\n",
      " País: Iran\n",
      " Porcentaje: 41.86%.\n"
     ]
    }
   ],
   "source": [
    "# paso 1: agrupamos por pais y contamos por salario con value_counts()\n",
    "salary_counts = df.groupby('native-country')['salary'].value_counts()\n",
    "\n",
    "#paso 2: lo convertimos en un data frame con unstack()\n",
    "salary_counts = salary_counts.unstack()\n",
    "\n",
    "#paso 3: calculamos el porcentaje\n",
    "\n",
    "#calculamos el salario por país\n",
    "salary_counts['total'] = salary_counts['<=50K'] + salary_counts['>50K']\n",
    "salary_counts['>50K'] =  (salary_counts['>50K'] / salary_counts['total']) * 100\n",
    "\n",
    "# paso 4: calculamos el porcentaje del salario por país mayor a 50k\n",
    "#filtramos el pais por el índice\n",
    "country_max_percentage = salary_counts['>50K'].idxmax()\n",
    "\n",
    "#porcentaje mas alto de ese país:\n",
    "max_percentage = salary_counts['>50K'].max()\n",
    "max_percentage = round(max_percentage,2)\n",
    "\n",
    "print(F\"País con el porcentaje de personas con salario mayor a 50K\\n\\n País: {country_max_percentage}\\n Porcentaje: {max_percentage}%.\")\n"
   ]
  },
  {
   "cell_type": "markdown",
   "metadata": {},
   "source": [
    "🎯 Respuesta 8:\n",
    "\n",
    "País con el porcentaje de personas con salario mayor a 50K\n",
    "\n",
    "        País: Iran\n",
    "        Porcentaje: 41.86%."
   ]
  },
  {
   "cell_type": "markdown",
   "metadata": {},
   "source": [
    "📌 Pregunta 9: Identifica la ocupación más popular de aquellos que ganan >50k en India."
   ]
  },
  {
   "cell_type": "code",
   "execution_count": 12,
   "metadata": {},
   "outputs": [
    {
     "name": "stdout",
     "output_type": "stream",
     "text": [
      "La ocupacion más popular en la india de aquellas personas que ganan más de 50K es:\n",
      "\n",
      " Ocupacion: Prof-specialty\n",
      " Count: 25\n"
     ]
    }
   ],
   "source": [
    "# Paso 1: Filtrar data por país = 'India' y 'salary' = '>50K'\n",
    "filtered_df = df[(df['native-country'] == 'India') & (df['salary'] == '>50K')]\n",
    "\n",
    "# Paso 2: Hallar la ocupacion mas popular con el filtrado anterior\n",
    "occupation_popular = filtered_df['occupation'].value_counts()\n",
    "\n",
    "# Paso 3: Determinar la ocupacion mas popular\n",
    "most_popular_occupation = occupation_popular.idxmax()\n",
    "count_popular_occupation = occupation_popular.max()\n",
    "\n",
    "print(f\"La ocupacion más popular en la india de aquellas personas que ganan más de 50K es:\\n\\n Ocupacion: {most_popular_occupation}\\n Count: {count_popular_occupation}\")"
   ]
  },
  {
   "cell_type": "markdown",
   "metadata": {},
   "source": [
    "🎯 Respuesta 9: \n",
    "\n",
    "La ocupacion más popular en la india de aquellas personas que ganan más de 50K es:\n",
    "\n",
    "    Ocupacion: Prof-specialty\n",
    "    Count: 25"
   ]
  },
  {
   "cell_type": "markdown",
   "metadata": {},
   "source": [
    "✏️  Conclusiones: \n",
    "\n",
    "Este análisis demográfico proporciona información valiosa a partir del dataset descargado, con preguntas clave que destacan aspectos importantes relacionados con raza, educación, salario y ocupación. A continuación, se resumen los puntos más importantes:\n",
    "\n",
    "1. *Distribución racial:*\n",
    "\n",
    "        La mayor representación en el conjunto de datos corresponde a personas identificadas como blancas, seguidas por negros y asiático-pacíficos. La menor representación es de personas clasificadas como \"Other\".\n",
    "\n",
    "2. *Edad promedio de los hombres:* \n",
    "\n",
    "        La edad promedio de los hombres en este dataset es de 39 años.\n",
    "\n",
    "3. *Porcentaje de personas con educación de licenciatura:*\n",
    "\n",
    "        Aproximadamente el 16.45% de las personas tienen una licenciatura.\n",
    "\n",
    "4. *Educación avanzada y salario mayor a 50k:* \n",
    "\n",
    "        Casi la mitad (46.54%) de las personas con un título avanzado (licenciatura, maestría o doctorado) ganan más de 50k.\n",
    "\n",
    "5. *Personas sin educación avanzada y salario mayor a 50k:*\n",
    "\n",
    "        Solo el 17.37% de las personas sin educación avanzada ganan más de 50k.\n",
    "\n",
    "6. *Mínimo de horas trabajadas por semana:*\n",
    "\n",
    "        La mínima cantidad de horas trabajadas por semana es 1 hora.\n",
    "\n",
    "7. *Personas que trabajan el mínimo de horas y ganan más de 50k:* \n",
    "\n",
    "        Solo el 10% de las personas que trabajan el mínimo de horas ganan más de 50k.\n",
    "\n",
    "8. *País con mayor porcentaje de personas que ganan >50k:* \n",
    "\n",
    "        Irán tiene el porcentaje más alto, con un 41.86% de personas que ganan más de 50k.\n",
    "\n",
    "9. *Ocupación más popular entre los que ganan >50k en India:*\n",
    "\n",
    "        La ocupación más común es \"Prof-specialty\", con 25 personas en esta categoría.\n",
    "\n",
    "Este análisis resalta cómo ciertas variables, como la educación y la ocupación, influyen significativamente en los ingresos, y cómo los datos sociodemográficos varían entre diferentes grupos dentro del conjunto de datos."
   ]
  }
 ],
 "metadata": {
  "kernelspec": {
   "display_name": "base",
   "language": "python",
   "name": "python3"
  },
  "language_info": {
   "codemirror_mode": {
    "name": "ipython",
    "version": 3
   },
   "file_extension": ".py",
   "mimetype": "text/x-python",
   "name": "python",
   "nbconvert_exporter": "python",
   "pygments_lexer": "ipython3",
   "version": "3.12.4"
  }
 },
 "nbformat": 4,
 "nbformat_minor": 2
}
