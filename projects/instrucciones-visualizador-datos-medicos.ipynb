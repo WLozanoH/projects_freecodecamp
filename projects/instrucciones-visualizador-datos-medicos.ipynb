{
 "cells": [
  {
   "cell_type": "markdown",
   "metadata": {},
   "source": [
    "# Proyecto – Visualizador de datos médicos"
   ]
  },
  {
   "cell_type": "markdown",
   "metadata": {},
   "source": [
    "En este proyecto, visualizarás y realizarás cálculos a partir de datos de exámenes médicos usando matplotlib, seaborn y pandas. Los valores del conjunto de datos (dataset) se recogieron durante los exámenes médicos.\n",
    "\n",
    "Puedes descargar la data aquí: 👇\n",
    "\n",
    "https://github.com/WLozanoH/projects_freecodecamp/blob/main/projects/medical_examination.csv\n",
    "\n",
    "La resolución la encuentras aquí: 👇\n",
    "\n",
    "https://github.com/WLozanoH/projects_freecodecamp/blob/main/projects/visualizador-datos-medicos-project.ipynb\n",
    "\n",
    "* Descripción de datos\n",
    "\n",
    "Las filas del conjunto de datos representan a los pacientes y las columnas representan información como medidas corporales, resultados de varios análisis de sangre y opciones de estilo de vida. Utilizarás el conjunto de datos para explorar la relación entre enfermedades cardiacas, medidas del cuerpo, indicadores sanguíneos y opciones de estilo de vida.\n",
    "\n",
    "        Nombre del archivo: 'medical_examination.csv'\n"
   ]
  },
  {
   "cell_type": "markdown",
   "metadata": {},
   "source": [
    "![Descripción de la imagen](tabla_datos_medicos.png)"
   ]
  },
  {
   "cell_type": "markdown",
   "metadata": {},
   "source": [
    "* Tareas\n",
    "\n",
    "Crear un gráfico similar a Figure_1.png, donde mostramos las cifras de resultados buenos y malos para las variables cholesterol, gluc, alco, active y smoke en los pacientes con cardio=1 y cardio=0 en diferentes paneles."
   ]
  },
  {
   "cell_type": "markdown",
   "metadata": {},
   "source": [
    "** completar las siguientes tareas:"
   ]
  },
  {
   "cell_type": "markdown",
   "metadata": {},
   "source": [
    "1.- Agregue una columna de sobrepeso a los datos. Para determinar si una persona tiene sobrepeso, primero calcule su IMC (Índice de masa corporal) dividiendo su peso en kilogramos por el cuadrado de su altura en metros. Si ese valor es > 25, entonces la persona tiene sobrepeso. Use el valor 0 para NO tener sobrepeso y el valor 1 para tener sobrepeso.\n"
   ]
  },
  {
   "cell_type": "markdown",
   "metadata": {},
   "source": [
    "2.-  Normalice los datos haciendo que 0 sea siempre bueno y 1 siempre malo. Si el valor de colesterol o glucosa es 1, haga que el valor sea 0. Si el valor es mayor que 1, haga que el valor sea 1."
   ]
  },
  {
   "cell_type": "markdown",
   "metadata": {},
   "source": [
    "3.- Convierta los datos en formato ‘long’ y cree un gráfico que muestre los recuentos de valores de las características categóricas utilizando catplot() de Seaborn. El conjunto de datos debe dividirse por cardio, de modo que haya un gráfico para cada valor de cardio. El gráfico debe verse como Figure_1.png."
   ]
  },
  {
   "cell_type": "markdown",
   "metadata": {},
   "source": [
    "4.-  Limpiar los datos. Filtrar los siguientes segmentos de pacientes que representan datos incorrectos:\n",
    "\n",
    "o\t.La presión diastólica es más alta que la sistólica (Mantenga los datos correctos con (df['ap_lo'] <= df['ap_hi']))\n",
    "\n",
    "o\t.La altura es menor que el percentil 2,5 (mantenga los datos correctos con (df['height'] >= df['height'].quantile(0.025)))\n",
    "\n",
    "o\t.La altura es mayor que el percentil 97,5\n",
    "\n",
    "o\t.El peso es menor que el percentil 2,5\n",
    "\n",
    "o\t.El peso es mayor que el percentil 97,5"
   ]
  },
  {
   "cell_type": "markdown",
   "metadata": {},
   "source": [
    "5.- Cree una matriz de correlación utilizando el conjunto de datos. Dibuje la matriz de correlación utilizando heatmap() de Seaborn. Enmascare el triángulo superior. El gráfico debería verse como Figure_2.png."
   ]
  },
  {
   "cell_type": "markdown",
   "metadata": {},
   "source": [
    "# Instrucciones"
   ]
  },
  {
   "cell_type": "markdown",
   "metadata": {},
   "source": [
    "* Agregue el código del número de instrucción asociado a cada número del archivo medical_data_visualizer.py que se encuentra a continuación."
   ]
  },
  {
   "cell_type": "markdown",
   "metadata": {},
   "source": [
    "1.\tImporte los datos de medical_examination.csv y asígnelos a la variable df.\n",
    "2.  Cree la columna sobrepeso en la variable df.\n",
    "3.  Normalice los datos haciendo que 0 sea siempre bueno y 1 siempre malo. Si el valor de colesterol o glucosa es 1, establezca el valor en 0. Si el valor es mayor que 1, establezca el valor en 1.\n",
    "4.  Dibuje el gráfico categórico en la función cat_plot o countplot.\n",
    "5.\tCree un DataFrame para el gráfico cat usando pd.melt con valores de colesterol, glucosa, humo, alcohol, actividad y sobrepeso en la variable df_cat.\n",
    "6.\tAgrupe y reformatee los datos en df_cat para dividirlos por cardio. Muestre los recuentos de cada característica. Deberá cambiar el nombre de una de las columnas para que el gráfico cat funcione correctamente.\n",
    "7.\tConvierta los datos en formato ‘long’ y cree un gráfico que muestre los recuentos de valores de las características categóricas utilizando el siguiente método proporcionado por la biblioteca seaborn import: sns.catplot().\n",
    "8.\tObtenga la figura para la salida y almacénela en la variable fig.\n",
    "9.\tNo modifique las dos líneas siguientes.\n",
    "10.\tDibuje el mapa de calor en la función heat_map.\n",
    "11.\tLimpie los datos en la variable df_heat filtrando los siguientes segmentos de pacientes que representan datos incorrectos:\n",
    "\n",
    "        •la altura es menor que el percentil 2,5 (mantenga los datos correctos con (df['height'] >= df['height'].quantile(0.025)))\n",
    "        •la altura es mayor que el percentil 97,5\n",
    "        •el peso es menor que el percentil 2,5\n",
    "        •el peso es mayor que el percentil 97,5\n",
    "12.\tCalcule la matriz de correlación y almacénela en la variable corr.\n",
    "13.\tGenere una máscara para el triángulo superior y almacénela en la variable mask.\n",
    "14.\tConfigure la figura de matplotlib.\n",
    "15.\tDibuje la Matriz de correlación utilizando el método proporcionado por la biblioteca Seaborn Importar: sns.heatmap().\n",
    "\n"
   ]
  }
 ],
 "metadata": {
  "language_info": {
   "name": "python"
  }
 },
 "nbformat": 4,
 "nbformat_minor": 2
}
