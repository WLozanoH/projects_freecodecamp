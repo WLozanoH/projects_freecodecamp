{
 "cells": [
  {
   "cell_type": "markdown",
   "metadata": {},
   "source": [
    "# Visualizador de Datos Médicos"
   ]
  },
  {
   "cell_type": "markdown",
   "metadata": {},
   "source": [
    "*Análisis del Proyecto:*\n",
    "\n",
    "🎯 Este proyecto tiene como objetivo el análisis de datos médicos, centrándose en la identificación de factores de riesgo como el sobrepeso, colesterol, glucosa, y enfermedades cardiovasculares, además de explorar las relaciones entre variables a través de visualizaciones."
   ]
  },
  {
   "cell_type": "code",
   "execution_count": 1,
   "metadata": {},
   "outputs": [],
   "source": [
    "# Importamos las librerías necesarias\n",
    "import pandas as pd \n",
    "import seaborn as sns\n",
    "import matplotlib.pyplot as plt\n",
    "import numpy as np\n",
    "import warnings\n",
    "warnings.filterwarnings('ignore')\n",
    "\n",
    "%matplotlib inline\n"
   ]
  },
  {
   "cell_type": "markdown",
   "metadata": {},
   "source": [
    "📌 *1.\tImporte los datos de 'medical_examination.csv' y asígnelos a la variable df.*"
   ]
  },
  {
   "cell_type": "code",
   "execution_count": 2,
   "metadata": {},
   "outputs": [
    {
     "data": {
      "text/html": [
       "<div>\n",
       "<style scoped>\n",
       "    .dataframe tbody tr th:only-of-type {\n",
       "        vertical-align: middle;\n",
       "    }\n",
       "\n",
       "    .dataframe tbody tr th {\n",
       "        vertical-align: top;\n",
       "    }\n",
       "\n",
       "    .dataframe thead th {\n",
       "        text-align: right;\n",
       "    }\n",
       "</style>\n",
       "<table border=\"1\" class=\"dataframe\">\n",
       "  <thead>\n",
       "    <tr style=\"text-align: right;\">\n",
       "      <th></th>\n",
       "      <th>age</th>\n",
       "      <th>sex</th>\n",
       "      <th>height</th>\n",
       "      <th>weight</th>\n",
       "      <th>ap_hi</th>\n",
       "      <th>ap_lo</th>\n",
       "      <th>cholesterol</th>\n",
       "      <th>gluc</th>\n",
       "      <th>smoke</th>\n",
       "      <th>alco</th>\n",
       "      <th>active</th>\n",
       "      <th>cardio</th>\n",
       "    </tr>\n",
       "    <tr>\n",
       "      <th>id</th>\n",
       "      <th></th>\n",
       "      <th></th>\n",
       "      <th></th>\n",
       "      <th></th>\n",
       "      <th></th>\n",
       "      <th></th>\n",
       "      <th></th>\n",
       "      <th></th>\n",
       "      <th></th>\n",
       "      <th></th>\n",
       "      <th></th>\n",
       "      <th></th>\n",
       "    </tr>\n",
       "  </thead>\n",
       "  <tbody>\n",
       "    <tr>\n",
       "      <th>0</th>\n",
       "      <td>18393</td>\n",
       "      <td>2</td>\n",
       "      <td>168</td>\n",
       "      <td>62.0</td>\n",
       "      <td>110</td>\n",
       "      <td>80</td>\n",
       "      <td>1</td>\n",
       "      <td>1</td>\n",
       "      <td>0</td>\n",
       "      <td>0</td>\n",
       "      <td>1</td>\n",
       "      <td>0</td>\n",
       "    </tr>\n",
       "    <tr>\n",
       "      <th>1</th>\n",
       "      <td>20228</td>\n",
       "      <td>1</td>\n",
       "      <td>156</td>\n",
       "      <td>85.0</td>\n",
       "      <td>140</td>\n",
       "      <td>90</td>\n",
       "      <td>3</td>\n",
       "      <td>1</td>\n",
       "      <td>0</td>\n",
       "      <td>0</td>\n",
       "      <td>1</td>\n",
       "      <td>1</td>\n",
       "    </tr>\n",
       "    <tr>\n",
       "      <th>2</th>\n",
       "      <td>18857</td>\n",
       "      <td>1</td>\n",
       "      <td>165</td>\n",
       "      <td>64.0</td>\n",
       "      <td>130</td>\n",
       "      <td>70</td>\n",
       "      <td>3</td>\n",
       "      <td>1</td>\n",
       "      <td>0</td>\n",
       "      <td>0</td>\n",
       "      <td>0</td>\n",
       "      <td>1</td>\n",
       "    </tr>\n",
       "    <tr>\n",
       "      <th>3</th>\n",
       "      <td>17623</td>\n",
       "      <td>2</td>\n",
       "      <td>169</td>\n",
       "      <td>82.0</td>\n",
       "      <td>150</td>\n",
       "      <td>100</td>\n",
       "      <td>1</td>\n",
       "      <td>1</td>\n",
       "      <td>0</td>\n",
       "      <td>0</td>\n",
       "      <td>1</td>\n",
       "      <td>1</td>\n",
       "    </tr>\n",
       "    <tr>\n",
       "      <th>4</th>\n",
       "      <td>17474</td>\n",
       "      <td>1</td>\n",
       "      <td>156</td>\n",
       "      <td>56.0</td>\n",
       "      <td>100</td>\n",
       "      <td>60</td>\n",
       "      <td>1</td>\n",
       "      <td>1</td>\n",
       "      <td>0</td>\n",
       "      <td>0</td>\n",
       "      <td>0</td>\n",
       "      <td>0</td>\n",
       "    </tr>\n",
       "  </tbody>\n",
       "</table>\n",
       "</div>"
      ],
      "text/plain": [
       "      age  sex  height  weight  ap_hi  ap_lo  cholesterol  gluc  smoke  alco  \\\n",
       "id                                                                             \n",
       "0   18393    2     168    62.0    110     80            1     1      0     0   \n",
       "1   20228    1     156    85.0    140     90            3     1      0     0   \n",
       "2   18857    1     165    64.0    130     70            3     1      0     0   \n",
       "3   17623    2     169    82.0    150    100            1     1      0     0   \n",
       "4   17474    1     156    56.0    100     60            1     1      0     0   \n",
       "\n",
       "    active  cardio  \n",
       "id                  \n",
       "0        1       0  \n",
       "1        1       1  \n",
       "2        0       1  \n",
       "3        1       1  \n",
       "4        0       0  "
      ]
     },
     "execution_count": 2,
     "metadata": {},
     "output_type": "execute_result"
    }
   ],
   "source": [
    "#cargamos la data\n",
    "df = pd.read_csv('medical_examination.csv', index_col='id')\n",
    "df.head()"
   ]
  },
  {
   "cell_type": "markdown",
   "metadata": {},
   "source": [
    "    sex = sexo(0: mujer, 1:hombre)\n",
    "    ap_hi = Presión arterial sistólica\n",
    "    ap_lo = Presión arterial diastólica\n",
    "    cholesterol\t= colesterol\n",
    "    gluc = glucosa \n",
    "    smoke = fumador (0:no, 1:yes)\n",
    "    alco =  consumo de alcohol (0:no, 1:yes)\n",
    "    active = actividad física (0:no, 1:yes)\n",
    "    cardio = Presencia o ausencia de enfermedades cardiovasculares (0:no, 1:yes)\n"
   ]
  },
  {
   "cell_type": "code",
   "execution_count": 3,
   "metadata": {},
   "outputs": [
    {
     "name": "stdout",
     "output_type": "stream",
     "text": [
      "<class 'pandas.core.frame.DataFrame'>\n",
      "Index: 70000 entries, 0 to 99999\n",
      "Data columns (total 12 columns):\n",
      " #   Column       Non-Null Count  Dtype  \n",
      "---  ------       --------------  -----  \n",
      " 0   age          70000 non-null  int64  \n",
      " 1   sex          70000 non-null  int64  \n",
      " 2   height       70000 non-null  int64  \n",
      " 3   weight       70000 non-null  float64\n",
      " 4   ap_hi        70000 non-null  int64  \n",
      " 5   ap_lo        70000 non-null  int64  \n",
      " 6   cholesterol  70000 non-null  int64  \n",
      " 7   gluc         70000 non-null  int64  \n",
      " 8   smoke        70000 non-null  int64  \n",
      " 9   alco         70000 non-null  int64  \n",
      " 10  active       70000 non-null  int64  \n",
      " 11  cardio       70000 non-null  int64  \n",
      "dtypes: float64(1), int64(11)\n",
      "memory usage: 6.9 MB\n"
     ]
    }
   ],
   "source": [
    "df.info()"
   ]
  },
  {
   "cell_type": "code",
   "execution_count": 4,
   "metadata": {},
   "outputs": [
    {
     "data": {
      "text/plain": [
       "sex\n",
       "1    45522\n",
       "2    24467\n",
       "3       11\n",
       "Name: count, dtype: int64"
      ]
     },
     "execution_count": 4,
     "metadata": {},
     "output_type": "execute_result"
    }
   ],
   "source": [
    "df['sex'].value_counts()"
   ]
  },
  {
   "cell_type": "code",
   "execution_count": 5,
   "metadata": {},
   "outputs": [],
   "source": [
    "#corregimos variable valores de  la variable 'sex'\n",
    "# replace (2, 0)\n",
    "#replace (3,0)\n",
    "df['sex'] = df['sex'].astype(str)\n",
    "df['sex'] = df['sex'].str.replace('2','0')\n",
    "df['sex'] = df['sex'].str.replace('3','0')\n",
    "df['sex'] = df['sex'].astype(int)"
   ]
  },
  {
   "cell_type": "code",
   "execution_count": 6,
   "metadata": {},
   "outputs": [
    {
     "data": {
      "text/plain": [
       "sex\n",
       "1    45522\n",
       "0    24478\n",
       "Name: count, dtype: int64"
      ]
     },
     "execution_count": 6,
     "metadata": {},
     "output_type": "execute_result"
    }
   ],
   "source": [
    "df['sex'].value_counts() #perfecto"
   ]
  },
  {
   "cell_type": "markdown",
   "metadata": {},
   "source": [
    "📌 *2.\tCree la columna sobrepeso en la variable df.*"
   ]
  },
  {
   "cell_type": "code",
   "execution_count": 7,
   "metadata": {},
   "outputs": [
    {
     "data": {
      "text/plain": [
       "Index(['age', 'sex', 'height', 'weight', 'ap_hi', 'ap_lo', 'cholesterol',\n",
       "       'gluc', 'smoke', 'alco', 'active', 'cardio'],\n",
       "      dtype='object')"
      ]
     },
     "execution_count": 7,
     "metadata": {},
     "output_type": "execute_result"
    }
   ],
   "source": [
    "df.columns"
   ]
  },
  {
   "cell_type": "code",
   "execution_count": 8,
   "metadata": {},
   "outputs": [
    {
     "data": {
      "text/html": [
       "<div>\n",
       "<style scoped>\n",
       "    .dataframe tbody tr th:only-of-type {\n",
       "        vertical-align: middle;\n",
       "    }\n",
       "\n",
       "    .dataframe tbody tr th {\n",
       "        vertical-align: top;\n",
       "    }\n",
       "\n",
       "    .dataframe thead th {\n",
       "        text-align: right;\n",
       "    }\n",
       "</style>\n",
       "<table border=\"1\" class=\"dataframe\">\n",
       "  <thead>\n",
       "    <tr style=\"text-align: right;\">\n",
       "      <th></th>\n",
       "      <th>age</th>\n",
       "      <th>sex</th>\n",
       "      <th>height</th>\n",
       "      <th>weight</th>\n",
       "      <th>ap_hi</th>\n",
       "      <th>ap_lo</th>\n",
       "      <th>cholesterol</th>\n",
       "      <th>gluc</th>\n",
       "      <th>smoke</th>\n",
       "      <th>alco</th>\n",
       "      <th>active</th>\n",
       "      <th>cardio</th>\n",
       "      <th>height_mts</th>\n",
       "      <th>IMC</th>\n",
       "      <th>overweight</th>\n",
       "    </tr>\n",
       "    <tr>\n",
       "      <th>id</th>\n",
       "      <th></th>\n",
       "      <th></th>\n",
       "      <th></th>\n",
       "      <th></th>\n",
       "      <th></th>\n",
       "      <th></th>\n",
       "      <th></th>\n",
       "      <th></th>\n",
       "      <th></th>\n",
       "      <th></th>\n",
       "      <th></th>\n",
       "      <th></th>\n",
       "      <th></th>\n",
       "      <th></th>\n",
       "      <th></th>\n",
       "    </tr>\n",
       "  </thead>\n",
       "  <tbody>\n",
       "    <tr>\n",
       "      <th>0</th>\n",
       "      <td>18393</td>\n",
       "      <td>0</td>\n",
       "      <td>168</td>\n",
       "      <td>62.0</td>\n",
       "      <td>110</td>\n",
       "      <td>80</td>\n",
       "      <td>1</td>\n",
       "      <td>1</td>\n",
       "      <td>0</td>\n",
       "      <td>0</td>\n",
       "      <td>1</td>\n",
       "      <td>0</td>\n",
       "      <td>1.68</td>\n",
       "      <td>21.967120</td>\n",
       "      <td>0</td>\n",
       "    </tr>\n",
       "    <tr>\n",
       "      <th>1</th>\n",
       "      <td>20228</td>\n",
       "      <td>1</td>\n",
       "      <td>156</td>\n",
       "      <td>85.0</td>\n",
       "      <td>140</td>\n",
       "      <td>90</td>\n",
       "      <td>3</td>\n",
       "      <td>1</td>\n",
       "      <td>0</td>\n",
       "      <td>0</td>\n",
       "      <td>1</td>\n",
       "      <td>1</td>\n",
       "      <td>1.56</td>\n",
       "      <td>34.927679</td>\n",
       "      <td>1</td>\n",
       "    </tr>\n",
       "    <tr>\n",
       "      <th>2</th>\n",
       "      <td>18857</td>\n",
       "      <td>1</td>\n",
       "      <td>165</td>\n",
       "      <td>64.0</td>\n",
       "      <td>130</td>\n",
       "      <td>70</td>\n",
       "      <td>3</td>\n",
       "      <td>1</td>\n",
       "      <td>0</td>\n",
       "      <td>0</td>\n",
       "      <td>0</td>\n",
       "      <td>1</td>\n",
       "      <td>1.65</td>\n",
       "      <td>23.507805</td>\n",
       "      <td>0</td>\n",
       "    </tr>\n",
       "    <tr>\n",
       "      <th>3</th>\n",
       "      <td>17623</td>\n",
       "      <td>0</td>\n",
       "      <td>169</td>\n",
       "      <td>82.0</td>\n",
       "      <td>150</td>\n",
       "      <td>100</td>\n",
       "      <td>1</td>\n",
       "      <td>1</td>\n",
       "      <td>0</td>\n",
       "      <td>0</td>\n",
       "      <td>1</td>\n",
       "      <td>1</td>\n",
       "      <td>1.69</td>\n",
       "      <td>28.710479</td>\n",
       "      <td>1</td>\n",
       "    </tr>\n",
       "    <tr>\n",
       "      <th>4</th>\n",
       "      <td>17474</td>\n",
       "      <td>1</td>\n",
       "      <td>156</td>\n",
       "      <td>56.0</td>\n",
       "      <td>100</td>\n",
       "      <td>60</td>\n",
       "      <td>1</td>\n",
       "      <td>1</td>\n",
       "      <td>0</td>\n",
       "      <td>0</td>\n",
       "      <td>0</td>\n",
       "      <td>0</td>\n",
       "      <td>1.56</td>\n",
       "      <td>23.011177</td>\n",
       "      <td>0</td>\n",
       "    </tr>\n",
       "  </tbody>\n",
       "</table>\n",
       "</div>"
      ],
      "text/plain": [
       "      age  sex  height  weight  ap_hi  ap_lo  cholesterol  gluc  smoke  alco  \\\n",
       "id                                                                             \n",
       "0   18393    0     168    62.0    110     80            1     1      0     0   \n",
       "1   20228    1     156    85.0    140     90            3     1      0     0   \n",
       "2   18857    1     165    64.0    130     70            3     1      0     0   \n",
       "3   17623    0     169    82.0    150    100            1     1      0     0   \n",
       "4   17474    1     156    56.0    100     60            1     1      0     0   \n",
       "\n",
       "    active  cardio  height_mts        IMC  overweight  \n",
       "id                                                     \n",
       "0        1       0        1.68  21.967120           0  \n",
       "1        1       1        1.56  34.927679           1  \n",
       "2        0       1        1.65  23.507805           0  \n",
       "3        1       1        1.69  28.710479           1  \n",
       "4        0       0        1.56  23.011177           0  "
      ]
     },
     "execution_count": 8,
     "metadata": {},
     "output_type": "execute_result"
    }
   ],
   "source": [
    "# paso 1: calculando el índice de masa corporal\n",
    "\n",
    "df['height_mts'] =  df['height']/100\n",
    "df['IMC'] = df['weight'] / (df['height_mts']**2)\n",
    "\n",
    "# paso 2: calculando la variable sobre peso 'overweight' \n",
    "# > 25: 1(tiene sobre peso), <25:0( no tiene sobre peso)\n",
    "df['overweight'] = df['IMC'].apply(lambda x: 1 if x > 25 else 0)\n",
    "df.head()\n"
   ]
  },
  {
   "cell_type": "code",
   "execution_count": 9,
   "metadata": {},
   "outputs": [
    {
     "name": "stdout",
     "output_type": "stream",
     "text": [
      "En este set de datos la cantidad y porcentaje de personas con sobre peso es:\n",
      "\n",
      "Count overweight: overweight\n",
      "1    43546\n",
      "0    26454\n",
      "Name: count, dtype: int64\n",
      "Percentage: overweight\n",
      "1    62.208571\n",
      "0    37.791429\n",
      "Name: count, dtype: float64\n"
     ]
    }
   ],
   "source": [
    "count_overweight = df['overweight'].value_counts()\n",
    "porcentaje_overweight = (df['overweight'].value_counts()/df['overweight'].shape[0])*100\n",
    "\n",
    "print(f\"\"\"En este set de datos la cantidad y porcentaje de personas con sobre peso es:\\n\n",
    "Count overweight: {count_overweight}\\nPercentage: {porcentaje_overweight}\"\"\")"
   ]
  },
  {
   "cell_type": "markdown",
   "metadata": {},
   "source": [
    "📌 *3. Normalice los datos haciendo que 0 sea siempre bueno y 1 siempre malo. Si el valor de colesterol o glucosa es 1, establezca el valor en 0. Si el valor es mayor que 1, establezca el valor en 1.*"
   ]
  },
  {
   "cell_type": "code",
   "execution_count": 10,
   "metadata": {},
   "outputs": [
    {
     "data": {
      "text/plain": [
       "cholesterol  gluc\n",
       "1            1       48672\n",
       "2            1        6729\n",
       "3            1        4078\n",
       "             3        3472\n",
       "2            2        2439\n",
       "1            2        2235\n",
       "             3        1478\n",
       "3            2         516\n",
       "2            3         381\n",
       "Name: count, dtype: int64"
      ]
     },
     "execution_count": 10,
     "metadata": {},
     "output_type": "execute_result"
    }
   ],
   "source": [
    "#revisando colesterol\n",
    "df[['cholesterol','gluc']].value_counts()"
   ]
  },
  {
   "cell_type": "code",
   "execution_count": 11,
   "metadata": {},
   "outputs": [],
   "source": [
    "#reemplazando en 'cholesterol y gluc' 1 = 0\n",
    "#reemplazando en 'cholesterol y gluc' ~1 = 1\n",
    "\n",
    "#reemplanzado en cholesterol\n",
    "df['cholesterol'] = df['cholesterol'].apply(lambda x: 0 if x == 1 else 1)\n",
    "\n",
    "#reemplanzado en gluc\n",
    "df['gluc'] = df['gluc'].apply(lambda x: 0 if x == 1 else 1)\n",
    "\n"
   ]
  },
  {
   "cell_type": "code",
   "execution_count": 12,
   "metadata": {},
   "outputs": [
    {
     "name": "stdout",
     "output_type": "stream",
     "text": [
      "gluc\n",
      "0    59479\n",
      "1    10521\n",
      "Name: count, dtype: int64\n",
      "cholesterol\n",
      "0    52385\n",
      "1    17615\n",
      "Name: count, dtype: int64\n"
     ]
    }
   ],
   "source": [
    "#comprobando valores\n",
    "print(df['gluc'].value_counts())\n",
    "print(df['cholesterol'].value_counts())"
   ]
  },
  {
   "cell_type": "markdown",
   "metadata": {},
   "source": [
    "📌 *4. Dibuje el gráfico categórico en la función draw_cat_plot, countplot*"
   ]
  },
  {
   "cell_type": "code",
   "execution_count": 19,
   "metadata": {},
   "outputs": [
    {
     "data": {
      "image/png": "[encoded data removed]",
      "text/plain": [
       "<Figure size 1500x600 with 2 Axes>"
      ]
     },
     "metadata": {},
     "output_type": "display_data"
    }
   ],
   "source": [
    "# Variables categóricas a analizar\n",
    "categorical_vars = ['active', 'alco', 'cholesterol', 'gluc', 'overweight', 'smoke']\n",
    "\n",
    "# Convertir los datos al formato long usando pd.melt()\n",
    "df_long = pd.melt(df, id_vars=['cardio'], value_vars=categorical_vars, \n",
    "                  var_name='variable', value_name='value')\n",
    "\n",
    "# Filtrar los datos por cardio\n",
    "df_cardio_0 = df_long[df_long['cardio'] == 0]\n",
    "df_cardio_1 = df_long[df_long['cardio'] == 1]\n",
    "\n",
    "# Crear dos gráficos: uno para cardio = 0 y otro para cardio = 1\n",
    "fig, axes = plt.subplots(1, 2, figsize=(15, 6), sharey=True)\n",
    "\n",
    "# Gráfico para cardio = 0\n",
    "sns.countplot(data=df_cardio_0, x='variable', hue='value',palette= 'Blues', ax=axes[0], alpha = 0.8)\n",
    "axes[0].set_title('Cardio = 0')\n",
    "axes[0].set_ylabel('Count')\n",
    "axes[0].set_xlabel('Categorical Variables')\n",
    "\n",
    "# Gráfico para cardio = 1\n",
    "sns.countplot(data=df_cardio_1, x='variable', hue='value',palette= 'Reds', ax=axes[1], alpha = 0.8)\n",
    "axes[1].set_title('Cardio = 1')\n",
    "axes[1].set_ylabel('Count')\n",
    "axes[1].set_xlabel('Categorical Variables')\n",
    "\n",
    "# Ajustar el diseño para que no se sobrepongan los gráficos\n",
    "plt.tight_layout()\n",
    "\n",
    "# Mostrar los gráficos\n",
    "plt.show()"
   ]
  },
  {
   "cell_type": "markdown",
   "metadata": {},
   "source": [
    "📌 *Pregunta 5: Limpiar los datos. Filtrar los siguientes segmentos de pacientes que representan datos\n",
    "incorrectos:*\n",
    "\n",
    "        o La presión diastólica es más alta que la sistólica (Mantenga los datos correctos con (df['ap_lo'] <= df['ap_hi']))\n",
    "        o La altura es menor que el percentil 2,5 (mantenga los datos correctos con (df['height'] >= df['height'].quantile(0.025)))\n",
    "        o La altura es mayor que el percentil 97,5\n",
    "        o El peso es menor que el percentil 2,5\n",
    "        o El peso es mayor que el percentil 97,5\n"
   ]
  },
  {
   "cell_type": "markdown",
   "metadata": {},
   "source": [
    "    ap_hi = Presión arterial sistólica\n",
    "    ap_lo = Presión arterial diastólica"
   ]
  },
  {
   "cell_type": "code",
   "execution_count": 14,
   "metadata": {},
   "outputs": [
    {
     "name": "stdout",
     "output_type": "stream",
     "text": [
      "Before (70000, 15)\n",
      "(68766, 15)\n",
      "(67260, 15)\n",
      "(65581, 15)\n",
      "(64104, 15)\n",
      "After (62680, 15)\n"
     ]
    }
   ],
   "source": [
    "print(f'Before',df.shape)\n",
    "#La presión diastólica(ap_lo) es más alta que la sistólica(ap_hi)(datos incorrectos)\n",
    "# (Mantenga los datos correctos con (df['ap_lo'] <= df['ap_hi']))\n",
    "df = df[df['ap_lo'] <= df['ap_hi']]\n",
    "print(df.shape)\n",
    "\n",
    "#La altura es menor que el percentil 2,5(datos incorrectos)-(mantenga los datos correctos con (df['height'] >= df['height'].quantile(0.025)))\n",
    "df = df[df['height'] >= df['height'].quantile(0.025)]\n",
    "print(df.shape)\n",
    "\n",
    "#La altura es mayor que el percentil 97,5(datos incorrectos)\n",
    "df = df[df['weight'] <= df['weight'].quantile(0.975)]\n",
    "print(df.shape)\n",
    "\n",
    "#El peso es menor que el percentil 2,5(datos incorrectos)\n",
    "df = df[df['weight'] >= df['weight'].quantile(0.025)]\n",
    "print(df.shape)\n",
    "\n",
    "#El peso es mayor que el percentil 97,5(datos incorrectos)\n",
    "df = df[df['weight'] <= df['weight'].quantile(0.975)]\n",
    "\n",
    "print(f'After',df.shape)"
   ]
  },
  {
   "cell_type": "code",
   "execution_count": 15,
   "metadata": {},
   "outputs": [
    {
     "data": {
      "text/plain": [
       "152.0"
      ]
     },
     "execution_count": 15,
     "metadata": {},
     "output_type": "execute_result"
    }
   ],
   "source": [
    "quartil = df['height'].quantile(0.025)\n",
    "quartil"
   ]
  },
  {
   "cell_type": "markdown",
   "metadata": {},
   "source": [
    "📌 eliminar la variable creada 'height_mts' y 'IMC'"
   ]
  },
  {
   "cell_type": "code",
   "execution_count": 16,
   "metadata": {},
   "outputs": [
    {
     "name": "stdout",
     "output_type": "stream",
     "text": [
      "(62680, 15)\n",
      "(62680, 13)\n"
     ]
    }
   ],
   "source": [
    "print(df.shape)\n",
    "df = df.drop(columns=['height_mts','IMC'])\n",
    "print(df.shape)"
   ]
  },
  {
   "cell_type": "markdown",
   "metadata": {},
   "source": [
    "📌 *6 .- Cree una matriz de correlación utilizando el conjunto de datos. Dibuje la matriz de\n",
    "correlación utilizando heatmap() de Seaborn. Enmascare el triángulo superior. El\n",
    "gráfico debería verse como Figure_2.png.*"
   ]
  },
  {
   "cell_type": "code",
   "execution_count": 17,
   "metadata": {},
   "outputs": [
    {
     "data": {
      "image/png": "[encoded data removed]",
      "text/plain": [
       "<Figure size 1200x800 with 2 Axes>"
      ]
     },
     "metadata": {},
     "output_type": "display_data"
    }
   ],
   "source": [
    "#crear un dataframe para hacer el mapa de calor\n",
    "df_heat = df\n",
    "\n",
    "#crear la matriz de correlacion\n",
    "corr = df_heat.corr()\n",
    "\n",
    "#crear una máscara para el triángulo superior\n",
    "mask = np.triu(np.ones_like(corr, dtype=bool))\n",
    "\n",
    "#características del gráfico\n",
    "plt.figure(figsize=(12,8))\n",
    "\n",
    "#gráficando mapa de calor\n",
    "sns.heatmap(corr, mask= mask, annot= True, fmt=\".1f\", cmap=\"PuBuGn\", square= True) \n",
    "\n",
    "plt.xticks(rotation = 45, ha= 'right') #Alinear etiquetas del eje x 45° a la derecha\n",
    "plt.yticks(rotation = 0)  # Alinear las etiquetas del eje Y horizontalmente\n",
    "\n",
    "plt.show()\n"
   ]
  },
  {
   "cell_type": "markdown",
   "metadata": {},
   "source": [
    "🎯 Conclusiones:\n",
    "\n",
    "*1. Datos*: Importación de 70,000 pacientes; variables completas; corrección de 'sex'.\n",
    "\n",
    "*2: Sobrepeso:* 62.2% de pacientes con sobrepeso (IMC calculado), lo que podría ser un indicador de problemas de salud relacionados.\n",
    "\n",
    "*3. Normalización:* Colesterol y glucosa; 1 = normal, >1 = anormal. Esto permite una mejor interpretación en análisis posteriores.\n",
    "\n",
    "*4.Visualización:* Gráficos comparativos de actividad física, alcohol, colesterol, glucosa, sobrepeso y tabaquismo en enfermedades \n",
    "cardiovasculares. Esto ayuda a identificar patrones de comportamiento en diferentes grupos.\n",
    "\n",
    "*5.Limpieza:* Filtrado de registros erróneos; reducción a 62,680 registros.\n",
    "\n",
    "*6. Correlación:* Matriz de correlación para identificar relaciones entre variables. Esto ayuda a identificar factores que pueden estar asociados con enfermedades cardiovasculares, permitiendo un análisis más profundo y decisiones informadas.\n"
   ]
  }
 ],
 "metadata": {
  "kernelspec": {
   "display_name": "base",
   "language": "python",
   "name": "python3"
  },
  "language_info": {
   "codemirror_mode": {
    "name": "ipython",
    "version": 3
   },
   "file_extension": ".py",
   "mimetype": "text/x-python",
   "name": "python",
   "nbconvert_exporter": "python",
   "pygments_lexer": "ipython3",
   "version": "3.12.4"
  }
 },
 "nbformat": 4,
 "nbformat_minor": 2
}
